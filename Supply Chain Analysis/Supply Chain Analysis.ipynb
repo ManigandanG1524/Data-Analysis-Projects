{
 "cells": [
  {
   "cell_type": "markdown",
   "id": "f97573c9",
   "metadata": {},
   "source": [
    "#### Supply Chain Analysis\n",
    "\n",
    "Redefine the Supply Chain Network for the next 5 years considering the recent increase in shipping costs and the forecasts of future demand."
   ]
  },
  {
   "cell_type": "code",
   "execution_count": 1,
   "id": "6cdcc628",
   "metadata": {
    "scrolled": true
   },
   "outputs": [
    {
     "name": "stdout",
     "output_type": "stream",
     "text": [
      "Requirement already satisfied: pulp in c:\\users\\mani ganesh\\anaconda3\\lib\\site-packages (2.7.0)\n"
     ]
    }
   ],
   "source": [
    "import pandas as pd\n",
    "!pip install pulp\n",
    "from pulp import *\n",
    "import seaborn as sns\n",
    "import matplotlib.pyplot as plt"
   ]
  },
  {
   "cell_type": "markdown",
   "id": "93430d88",
   "metadata": {},
   "source": [
    "#### Plant Location\n",
    "\n",
    "Manufacturing variable costs"
   ]
  },
  {
   "cell_type": "code",
   "execution_count": 2,
   "id": "b5b96f5e",
   "metadata": {
    "scrolled": true
   },
   "outputs": [
    {
     "data": {
      "text/html": [
       "<div>\n",
       "<style scoped>\n",
       "    .dataframe tbody tr th:only-of-type {\n",
       "        vertical-align: middle;\n",
       "    }\n",
       "\n",
       "    .dataframe tbody tr th {\n",
       "        vertical-align: top;\n",
       "    }\n",
       "\n",
       "    .dataframe thead th {\n",
       "        text-align: right;\n",
       "    }\n",
       "</style>\n",
       "<table border=\"1\" class=\"dataframe\">\n",
       "  <thead>\n",
       "    <tr style=\"text-align: right;\">\n",
       "      <th></th>\n",
       "      <th>USA</th>\n",
       "      <th>Germany</th>\n",
       "      <th>Japan</th>\n",
       "      <th>Brazil</th>\n",
       "      <th>India</th>\n",
       "    </tr>\n",
       "    <tr>\n",
       "      <th>Variable Costs ($/Unit)</th>\n",
       "      <th></th>\n",
       "      <th></th>\n",
       "      <th></th>\n",
       "      <th></th>\n",
       "      <th></th>\n",
       "    </tr>\n",
       "  </thead>\n",
       "  <tbody>\n",
       "    <tr>\n",
       "      <th>USA</th>\n",
       "      <td>12</td>\n",
       "      <td>12</td>\n",
       "      <td>12</td>\n",
       "      <td>12</td>\n",
       "      <td>12</td>\n",
       "    </tr>\n",
       "    <tr>\n",
       "      <th>Germany</th>\n",
       "      <td>13</td>\n",
       "      <td>13</td>\n",
       "      <td>13</td>\n",
       "      <td>13</td>\n",
       "      <td>13</td>\n",
       "    </tr>\n",
       "    <tr>\n",
       "      <th>Japan</th>\n",
       "      <td>10</td>\n",
       "      <td>10</td>\n",
       "      <td>10</td>\n",
       "      <td>10</td>\n",
       "      <td>10</td>\n",
       "    </tr>\n",
       "    <tr>\n",
       "      <th>Brazil</th>\n",
       "      <td>8</td>\n",
       "      <td>8</td>\n",
       "      <td>8</td>\n",
       "      <td>8</td>\n",
       "      <td>8</td>\n",
       "    </tr>\n",
       "    <tr>\n",
       "      <th>India</th>\n",
       "      <td>5</td>\n",
       "      <td>5</td>\n",
       "      <td>5</td>\n",
       "      <td>5</td>\n",
       "      <td>5</td>\n",
       "    </tr>\n",
       "  </tbody>\n",
       "</table>\n",
       "</div>"
      ],
      "text/plain": [
       "                         USA  Germany  Japan  Brazil  India\n",
       "Variable Costs ($/Unit)                                    \n",
       "USA                       12       12     12      12     12\n",
       "Germany                   13       13     13      13     13\n",
       "Japan                     10       10     10      10     10\n",
       "Brazil                     8        8      8       8      8\n",
       "India                      5        5      5       5      5"
      ]
     },
     "execution_count": 2,
     "metadata": {},
     "output_type": "execute_result"
    }
   ],
   "source": [
    "# Import Costs\n",
    "manvar_costs = pd.read_excel(r\"C:\\Users\\mani ganesh\\Downloads\\Supply Chain Optimization\\variable_costs.xlsx\", index_col = 0)\n",
    "manvar_costs"
   ]
  },
  {
   "cell_type": "code",
   "execution_count": 3,
   "id": "5ab053c3",
   "metadata": {
    "scrolled": true
   },
   "outputs": [
    {
     "data": {
      "text/plain": [
       "<Axes: title={'center': 'Manufacturing variable costs'}, xlabel='Variable Costs ($/Unit)'>"
      ]
     },
     "execution_count": 3,
     "metadata": {},
     "output_type": "execute_result"
    },
    {
     "data": {
      "image/png": "[encoded data removed]",
      "text/plain": [
       "<Figure size 640x480 with 1 Axes>"
      ]
     },
     "metadata": {},
     "output_type": "display_data"
    }
   ],
   "source": [
    "manvar_costs.plot(kind=\"bar\", title=\"Manufacturing variable costs\", alpha = 0.5)"
   ]
  },
  {
   "cell_type": "markdown",
   "id": "7bab67c6",
   "metadata": {},
   "source": [
    "India has the lowest manufacturing variable cost per unit, while Germany and the USA have relatively higher manufacturing variable costs compared to the other countries."
   ]
  },
  {
   "cell_type": "markdown",
   "id": "d7af7138",
   "metadata": {},
   "source": [
    "#### Freight Costs"
   ]
  },
  {
   "cell_type": "code",
   "execution_count": 4,
   "id": "feef974d",
   "metadata": {
    "scrolled": false
   },
   "outputs": [
    {
     "data": {
      "text/html": [
       "<div>\n",
       "<style scoped>\n",
       "    .dataframe tbody tr th:only-of-type {\n",
       "        vertical-align: middle;\n",
       "    }\n",
       "\n",
       "    .dataframe tbody tr th {\n",
       "        vertical-align: top;\n",
       "    }\n",
       "\n",
       "    .dataframe thead th {\n",
       "        text-align: right;\n",
       "    }\n",
       "</style>\n",
       "<table border=\"1\" class=\"dataframe\">\n",
       "  <thead>\n",
       "    <tr style=\"text-align: right;\">\n",
       "      <th></th>\n",
       "      <th>USA</th>\n",
       "      <th>Germany</th>\n",
       "      <th>Japan</th>\n",
       "      <th>Brazil</th>\n",
       "      <th>India</th>\n",
       "    </tr>\n",
       "    <tr>\n",
       "      <th>Freight Costs ($/Container)</th>\n",
       "      <th></th>\n",
       "      <th></th>\n",
       "      <th></th>\n",
       "      <th></th>\n",
       "      <th></th>\n",
       "    </tr>\n",
       "  </thead>\n",
       "  <tbody>\n",
       "    <tr>\n",
       "      <th>USA</th>\n",
       "      <td>0</td>\n",
       "      <td>12250</td>\n",
       "      <td>1100</td>\n",
       "      <td>16100</td>\n",
       "      <td>8778</td>\n",
       "    </tr>\n",
       "    <tr>\n",
       "      <th>Germany</th>\n",
       "      <td>13335</td>\n",
       "      <td>0</td>\n",
       "      <td>8617</td>\n",
       "      <td>20244</td>\n",
       "      <td>10073</td>\n",
       "    </tr>\n",
       "    <tr>\n",
       "      <th>Japan</th>\n",
       "      <td>15400</td>\n",
       "      <td>22750</td>\n",
       "      <td>0</td>\n",
       "      <td>43610</td>\n",
       "      <td>14350</td>\n",
       "    </tr>\n",
       "    <tr>\n",
       "      <th>Brazil</th>\n",
       "      <td>16450</td>\n",
       "      <td>22050</td>\n",
       "      <td>28000</td>\n",
       "      <td>0</td>\n",
       "      <td>29750</td>\n",
       "    </tr>\n",
       "    <tr>\n",
       "      <th>India</th>\n",
       "      <td>13650</td>\n",
       "      <td>15400</td>\n",
       "      <td>24500</td>\n",
       "      <td>29400</td>\n",
       "      <td>0</td>\n",
       "    </tr>\n",
       "  </tbody>\n",
       "</table>\n",
       "</div>"
      ],
      "text/plain": [
       "                               USA  Germany  Japan  Brazil  India\n",
       "Freight Costs ($/Container)                                      \n",
       "USA                              0    12250   1100   16100   8778\n",
       "Germany                      13335        0   8617   20244  10073\n",
       "Japan                        15400    22750      0   43610  14350\n",
       "Brazil                       16450    22050  28000       0  29750\n",
       "India                        13650    15400  24500   29400      0"
      ]
     },
     "execution_count": 4,
     "metadata": {},
     "output_type": "execute_result"
    }
   ],
   "source": [
    "# Import Costs\n",
    "freight_costs = pd.read_excel(r\"C:\\Users\\mani ganesh\\Downloads\\Supply Chain Optimization\\freight_costs.xlsx\", index_col = 0)\n",
    "freight_costs"
   ]
  },
  {
   "cell_type": "code",
   "execution_count": 30,
   "id": "ad99a1af",
   "metadata": {
    "scrolled": false
   },
   "outputs": [
    {
     "data": {
      "text/plain": [
       "<Axes: title={'center': 'Freight costs'}, xlabel='Freight Costs ($/Container)'>"
      ]
     },
     "execution_count": 30,
     "metadata": {},
     "output_type": "execute_result"
    },
    {
     "data": {
      "image/png": "[encoded data removed]",
      "text/plain": [
       "<Figure size 640x480 with 1 Axes>"
      ]
     },
     "metadata": {},
     "output_type": "display_data"
    }
   ],
   "source": [
    "freight_costs.plot(kind=\"bar\", title=\"Freight costs\", alpha = 0.5)"
   ]
  },
  {
   "cell_type": "markdown",
   "id": "353ce831",
   "metadata": {},
   "source": [
    "Shipping containers from Japan to the USA incurs a cost of $15,400 per container, significantly higher than the cost of $1,100 when transporting containers from the USA to Japan.\n",
    "\n",
    "Additionally, the cost of shipping containers from Japan to Brazil is the highest among all routes, amounting to $43,610 per container.\n",
    "\n",
    "These cost disparities highlight varying transportation expenses based on the shipping routes between different countries within the supply chain network."
   ]
  },
  {
   "cell_type": "markdown",
   "id": "31fe536b",
   "metadata": {},
   "source": [
    "#### Variable Costs\n",
    "\n",
    "This combined data provides insights into both manufacturing variable costs and transportation expenses incurred between various countries within the supply chain network, demonstrating the diverse costs associated with both production and logistics across different routes."
   ]
  },
  {
   "cell_type": "code",
   "execution_count": 6,
   "id": "7cf43921",
   "metadata": {
    "scrolled": false
   },
   "outputs": [
    {
     "data": {
      "text/html": [
       "<div>\n",
       "<style scoped>\n",
       "    .dataframe tbody tr th:only-of-type {\n",
       "        vertical-align: middle;\n",
       "    }\n",
       "\n",
       "    .dataframe tbody tr th {\n",
       "        vertical-align: top;\n",
       "    }\n",
       "\n",
       "    .dataframe thead th {\n",
       "        text-align: right;\n",
       "    }\n",
       "</style>\n",
       "<table border=\"1\" class=\"dataframe\">\n",
       "  <thead>\n",
       "    <tr style=\"text-align: right;\">\n",
       "      <th></th>\n",
       "      <th>USA</th>\n",
       "      <th>Germany</th>\n",
       "      <th>Japan</th>\n",
       "      <th>Brazil</th>\n",
       "      <th>India</th>\n",
       "    </tr>\n",
       "    <tr>\n",
       "      <th>Freight Costs ($/Container)</th>\n",
       "      <th></th>\n",
       "      <th></th>\n",
       "      <th></th>\n",
       "      <th></th>\n",
       "      <th></th>\n",
       "    </tr>\n",
       "  </thead>\n",
       "  <tbody>\n",
       "    <tr>\n",
       "      <th>USA</th>\n",
       "      <td>12.000</td>\n",
       "      <td>24.25</td>\n",
       "      <td>13.100</td>\n",
       "      <td>28.100</td>\n",
       "      <td>20.778</td>\n",
       "    </tr>\n",
       "    <tr>\n",
       "      <th>Germany</th>\n",
       "      <td>26.335</td>\n",
       "      <td>13.00</td>\n",
       "      <td>21.617</td>\n",
       "      <td>33.244</td>\n",
       "      <td>23.073</td>\n",
       "    </tr>\n",
       "    <tr>\n",
       "      <th>Japan</th>\n",
       "      <td>25.400</td>\n",
       "      <td>32.75</td>\n",
       "      <td>10.000</td>\n",
       "      <td>53.610</td>\n",
       "      <td>24.350</td>\n",
       "    </tr>\n",
       "    <tr>\n",
       "      <th>Brazil</th>\n",
       "      <td>24.450</td>\n",
       "      <td>30.05</td>\n",
       "      <td>36.000</td>\n",
       "      <td>8.000</td>\n",
       "      <td>37.750</td>\n",
       "    </tr>\n",
       "    <tr>\n",
       "      <th>India</th>\n",
       "      <td>18.650</td>\n",
       "      <td>20.40</td>\n",
       "      <td>29.500</td>\n",
       "      <td>34.400</td>\n",
       "      <td>5.000</td>\n",
       "    </tr>\n",
       "  </tbody>\n",
       "</table>\n",
       "</div>"
      ],
      "text/plain": [
       "                                USA  Germany   Japan  Brazil   India\n",
       "Freight Costs ($/Container)                                         \n",
       "USA                          12.000    24.25  13.100  28.100  20.778\n",
       "Germany                      26.335    13.00  21.617  33.244  23.073\n",
       "Japan                        25.400    32.75  10.000  53.610  24.350\n",
       "Brazil                       24.450    30.05  36.000   8.000  37.750\n",
       "India                        18.650    20.40  29.500  34.400   5.000"
      ]
     },
     "execution_count": 6,
     "metadata": {},
     "output_type": "execute_result"
    }
   ],
   "source": [
    "# Variable Costs\n",
    "var_cost = freight_costs/1000 + manvar_costs \n",
    "var_cost"
   ]
  },
  {
   "cell_type": "code",
   "execution_count": 7,
   "id": "b2390f9d",
   "metadata": {},
   "outputs": [
    {
     "data": {
      "text/plain": [
       "<Axes: title={'center': 'Bar Graph for Variable Cost'}, xlabel='Freight Costs ($/Container)'>"
      ]
     },
     "execution_count": 7,
     "metadata": {},
     "output_type": "execute_result"
    },
    {
     "data": {
      "image/png": "[encoded data removed]",
      "text/plain": [
       "<Figure size 640x480 with 1 Axes>"
      ]
     },
     "metadata": {},
     "output_type": "display_data"
    }
   ],
   "source": [
    "var_cost.plot(kind=\"bar\", title=\"Bar Graph for Variable Cost\", alpha = 0.5)"
   ]
  },
  {
   "cell_type": "markdown",
   "id": "006c3dff",
   "metadata": {},
   "source": [
    "#### Fixed Costs\n",
    "\n",
    "These ranges depict the variability in fixed costs among different countries, showcasing the potential range within which fixed expenses might fall for each specific country in the supply chain network."
   ]
  },
  {
   "cell_type": "code",
   "execution_count": 8,
   "id": "05df9579",
   "metadata": {
    "scrolled": true
   },
   "outputs": [
    {
     "data": {
      "text/html": [
       "<div>\n",
       "<style scoped>\n",
       "    .dataframe tbody tr th:only-of-type {\n",
       "        vertical-align: middle;\n",
       "    }\n",
       "\n",
       "    .dataframe tbody tr th {\n",
       "        vertical-align: top;\n",
       "    }\n",
       "\n",
       "    .dataframe thead th {\n",
       "        text-align: right;\n",
       "    }\n",
       "</style>\n",
       "<table border=\"1\" class=\"dataframe\">\n",
       "  <thead>\n",
       "    <tr style=\"text-align: right;\">\n",
       "      <th></th>\n",
       "      <th>Low</th>\n",
       "      <th>High</th>\n",
       "    </tr>\n",
       "  </thead>\n",
       "  <tbody>\n",
       "    <tr>\n",
       "      <th>USA</th>\n",
       "      <td>6500</td>\n",
       "      <td>9500</td>\n",
       "    </tr>\n",
       "    <tr>\n",
       "      <th>Germany</th>\n",
       "      <td>4980</td>\n",
       "      <td>7270</td>\n",
       "    </tr>\n",
       "    <tr>\n",
       "      <th>Japan</th>\n",
       "      <td>6230</td>\n",
       "      <td>9100</td>\n",
       "    </tr>\n",
       "    <tr>\n",
       "      <th>Brazil</th>\n",
       "      <td>3230</td>\n",
       "      <td>4730</td>\n",
       "    </tr>\n",
       "    <tr>\n",
       "      <th>India</th>\n",
       "      <td>2110</td>\n",
       "      <td>6160</td>\n",
       "    </tr>\n",
       "  </tbody>\n",
       "</table>\n",
       "</div>"
      ],
      "text/plain": [
       "          Low  High\n",
       "USA      6500  9500\n",
       "Germany  4980  7270\n",
       "Japan    6230  9100\n",
       "Brazil   3230  4730\n",
       "India    2110  6160"
      ]
     },
     "execution_count": 8,
     "metadata": {},
     "output_type": "execute_result"
    }
   ],
   "source": [
    "# Import Costs\n",
    "fixed_costs = pd.read_excel(r\"C:\\Users\\mani ganesh\\Downloads\\Supply Chain Optimization\\fixed_cost.xlsx\", index_col = 0)\n",
    "fixed_costs"
   ]
  },
  {
   "cell_type": "code",
   "execution_count": 9,
   "id": "1c93bddb",
   "metadata": {},
   "outputs": [
    {
     "data": {
      "text/plain": [
       "Text(0, 0.5, 'Fixed costs')"
      ]
     },
     "execution_count": 9,
     "metadata": {},
     "output_type": "execute_result"
    },
    {
     "data": {
      "image/png": "[encoded data removed]",
      "text/plain": [
       "<Figure size 640x480 with 1 Axes>"
      ]
     },
     "metadata": {},
     "output_type": "display_data"
    }
   ],
   "source": [
    "# Create the stacked bar graph\n",
    "alpha = 0.7\n",
    "fixed_costs.plot(kind=\"bar\", stacked=True, title=\"Stacked Bar Graph for fixes costs\", alpha = alpha)\n",
    "plt.xticks(rotation=30)\n",
    "plt.xlabel(\"Country\")\n",
    "plt.ylabel(\"Fixed costs\")"
   ]
  },
  {
   "cell_type": "markdown",
   "id": "dabb885d",
   "metadata": {},
   "source": [
    "#### Plants Capacity\n",
    "\n",
    "These ranges depict the potential production capacity limits for each country within the supply chain network, showing the variability in the monthly production capabilities across different regions."
   ]
  },
  {
   "cell_type": "code",
   "execution_count": 10,
   "id": "1346440c",
   "metadata": {
    "scrolled": false
   },
   "outputs": [
    {
     "data": {
      "text/html": [
       "<div>\n",
       "<style scoped>\n",
       "    .dataframe tbody tr th:only-of-type {\n",
       "        vertical-align: middle;\n",
       "    }\n",
       "\n",
       "    .dataframe tbody tr th {\n",
       "        vertical-align: top;\n",
       "    }\n",
       "\n",
       "    .dataframe thead th {\n",
       "        text-align: right;\n",
       "    }\n",
       "</style>\n",
       "<table border=\"1\" class=\"dataframe\">\n",
       "  <thead>\n",
       "    <tr style=\"text-align: right;\">\n",
       "      <th></th>\n",
       "      <th>Low</th>\n",
       "      <th>High</th>\n",
       "    </tr>\n",
       "    <tr>\n",
       "      <th>Capacity (kUnits/month)</th>\n",
       "      <th></th>\n",
       "      <th></th>\n",
       "    </tr>\n",
       "  </thead>\n",
       "  <tbody>\n",
       "    <tr>\n",
       "      <th>USA</th>\n",
       "      <td>500</td>\n",
       "      <td>1500</td>\n",
       "    </tr>\n",
       "    <tr>\n",
       "      <th>Germany</th>\n",
       "      <td>500</td>\n",
       "      <td>1500</td>\n",
       "    </tr>\n",
       "    <tr>\n",
       "      <th>Japan</th>\n",
       "      <td>500</td>\n",
       "      <td>1500</td>\n",
       "    </tr>\n",
       "    <tr>\n",
       "      <th>Brazil</th>\n",
       "      <td>500</td>\n",
       "      <td>1500</td>\n",
       "    </tr>\n",
       "    <tr>\n",
       "      <th>India</th>\n",
       "      <td>500</td>\n",
       "      <td>3000</td>\n",
       "    </tr>\n",
       "  </tbody>\n",
       "</table>\n",
       "</div>"
      ],
      "text/plain": [
       "                         Low  High\n",
       "Capacity (kUnits/month)           \n",
       "USA                      500  1500\n",
       "Germany                  500  1500\n",
       "Japan                    500  1500\n",
       "Brazil                   500  1500\n",
       "India                    500  3000"
      ]
     },
     "execution_count": 10,
     "metadata": {},
     "output_type": "execute_result"
    }
   ],
   "source": [
    "# Two types of plants: Low Capacity and High Capacity Plant\n",
    "cap = pd.read_excel(r\"C:\\Users\\mani ganesh\\Downloads\\Supply Chain Optimization\\capacity.xlsx\", index_col = 0)\n",
    "cap"
   ]
  },
  {
   "cell_type": "code",
   "execution_count": 11,
   "id": "3598a898",
   "metadata": {},
   "outputs": [
    {
     "data": {
      "text/plain": [
       "Text(0, 0.5, 'Capacity (kUnits/month)')"
      ]
     },
     "execution_count": 11,
     "metadata": {},
     "output_type": "execute_result"
    },
    {
     "data": {
      "image/png": "[encoded data removed]",
      "text/plain": [
       "<Figure size 640x480 with 1 Axes>"
      ]
     },
     "metadata": {},
     "output_type": "display_data"
    }
   ],
   "source": [
    "# Create the stacked bar graph\n",
    "alpha = 0.7\n",
    "cap.plot(kind=\"bar\", stacked=True, title=\"Stacked Bar Graph by DataFrame\", alpha = alpha)\n",
    "plt.xticks(rotation=30)\n",
    "plt.xlabel(\"Country\")\n",
    "plt.ylabel(\"Capacity (kUnits/month)\")"
   ]
  },
  {
   "cell_type": "markdown",
   "id": "6c0ac282",
   "metadata": {},
   "source": [
    "#### Demand\n",
    "\n",
    "These figures represent the quantity of units required per month in each country, indicating the demand levels that need to be fulfilled by the supply chain to meet the market requirements in each region."
   ]
  },
  {
   "cell_type": "code",
   "execution_count": 12,
   "id": "49b56baf",
   "metadata": {
    "scrolled": false
   },
   "outputs": [
    {
     "data": {
      "text/html": [
       "<div>\n",
       "<style scoped>\n",
       "    .dataframe tbody tr th:only-of-type {\n",
       "        vertical-align: middle;\n",
       "    }\n",
       "\n",
       "    .dataframe tbody tr th {\n",
       "        vertical-align: top;\n",
       "    }\n",
       "\n",
       "    .dataframe thead th {\n",
       "        text-align: right;\n",
       "    }\n",
       "</style>\n",
       "<table border=\"1\" class=\"dataframe\">\n",
       "  <thead>\n",
       "    <tr style=\"text-align: right;\">\n",
       "      <th></th>\n",
       "      <th>Unnamed: 1</th>\n",
       "      <th>Unnamed: 2</th>\n",
       "    </tr>\n",
       "  </thead>\n",
       "  <tbody>\n",
       "    <tr>\n",
       "      <th>NaN</th>\n",
       "      <td>(Units/month)</td>\n",
       "      <td>Demand</td>\n",
       "    </tr>\n",
       "    <tr>\n",
       "      <th>NaN</th>\n",
       "      <td>USA</td>\n",
       "      <td>2800000</td>\n",
       "    </tr>\n",
       "    <tr>\n",
       "      <th>NaN</th>\n",
       "      <td>Germany</td>\n",
       "      <td>90000</td>\n",
       "    </tr>\n",
       "    <tr>\n",
       "      <th>NaN</th>\n",
       "      <td>Japan</td>\n",
       "      <td>1700000</td>\n",
       "    </tr>\n",
       "    <tr>\n",
       "      <th>NaN</th>\n",
       "      <td>Brazil</td>\n",
       "      <td>145000</td>\n",
       "    </tr>\n",
       "    <tr>\n",
       "      <th>NaN</th>\n",
       "      <td>India</td>\n",
       "      <td>160000</td>\n",
       "    </tr>\n",
       "  </tbody>\n",
       "</table>\n",
       "</div>"
      ],
      "text/plain": [
       "        Unnamed: 1 Unnamed: 2\n",
       "NaN  (Units/month)     Demand\n",
       "NaN            USA    2800000\n",
       "NaN        Germany      90000\n",
       "NaN          Japan    1700000\n",
       "NaN         Brazil     145000\n",
       "NaN          India     160000"
      ]
     },
     "execution_count": 12,
     "metadata": {},
     "output_type": "execute_result"
    }
   ],
   "source": [
    "#Demand\n",
    "demand = pd.read_excel(r\"C:\\Users\\mani ganesh\\Downloads\\Supply Chain Optimization\\demand.xlsx\", index_col = 0)\n",
    "demand"
   ]
  },
  {
   "cell_type": "code",
   "execution_count": 13,
   "id": "ca832700",
   "metadata": {},
   "outputs": [
    {
     "data": {
      "text/html": [
       "<div>\n",
       "<style scoped>\n",
       "    .dataframe tbody tr th:only-of-type {\n",
       "        vertical-align: middle;\n",
       "    }\n",
       "\n",
       "    .dataframe tbody tr th {\n",
       "        vertical-align: top;\n",
       "    }\n",
       "\n",
       "    .dataframe thead th {\n",
       "        text-align: right;\n",
       "    }\n",
       "</style>\n",
       "<table border=\"1\" class=\"dataframe\">\n",
       "  <thead>\n",
       "    <tr style=\"text-align: right;\">\n",
       "      <th></th>\n",
       "      <th>Demand</th>\n",
       "    </tr>\n",
       "    <tr>\n",
       "      <th>(Units/month)</th>\n",
       "      <th></th>\n",
       "    </tr>\n",
       "  </thead>\n",
       "  <tbody>\n",
       "    <tr>\n",
       "      <th>USA</th>\n",
       "      <td>2800000</td>\n",
       "    </tr>\n",
       "    <tr>\n",
       "      <th>Germany</th>\n",
       "      <td>90000</td>\n",
       "    </tr>\n",
       "    <tr>\n",
       "      <th>Japan</th>\n",
       "      <td>1700000</td>\n",
       "    </tr>\n",
       "    <tr>\n",
       "      <th>Brazil</th>\n",
       "      <td>145000</td>\n",
       "    </tr>\n",
       "    <tr>\n",
       "      <th>India</th>\n",
       "      <td>160000</td>\n",
       "    </tr>\n",
       "  </tbody>\n",
       "</table>\n",
       "</div>"
      ],
      "text/plain": [
       "                Demand\n",
       "(Units/month)         \n",
       "USA            2800000\n",
       "Germany          90000\n",
       "Japan          1700000\n",
       "Brazil          145000\n",
       "India           160000"
      ]
     },
     "execution_count": 13,
     "metadata": {},
     "output_type": "execute_result"
    }
   ],
   "source": [
    "demand.rename(columns={\"Unnamed: 1\": \"(Units/month)\", \"Unnamed: 2\": \"Demand\"}, inplace=True)\n",
    "demand = demand.tail(-1)\n",
    "demand = demand.reset_index(drop=True)\n",
    "demand.set_index('(Units/month)', inplace=True)\n",
    "demand"
   ]
  },
  {
   "cell_type": "code",
   "execution_count": 14,
   "id": "834712c1",
   "metadata": {
    "scrolled": false
   },
   "outputs": [
    {
     "data": {
      "text/plain": [
       "<Axes: ylabel='Demand'>"
      ]
     },
     "execution_count": 14,
     "metadata": {},
     "output_type": "execute_result"
    },
    {
     "data": {
      "image/png": "[encoded data removed]",
      "text/plain": [
       "<Figure size 640x480 with 1 Axes>"
      ]
     },
     "metadata": {},
     "output_type": "display_data"
    }
   ],
   "source": [
    "colors = ['red', 'green', 'blue', 'purple', 'orange']\n",
    "demand.plot( kind='pie',y='Demand', autopct='%1.0f%%', colors=colors) "
   ]
  },
  {
   "cell_type": "markdown",
   "id": "1cecd929",
   "metadata": {},
   "source": [
    "US market is driving more than half of the demand."
   ]
  },
  {
   "cell_type": "markdown",
   "id": "7d09cc78",
   "metadata": {},
   "source": [
    "#### Decision Variables"
   ]
  },
  {
   "cell_type": "code",
   "execution_count": 15,
   "id": "1831c021",
   "metadata": {},
   "outputs": [],
   "source": [
    "# Define Decision Variables\n",
    "loc = ['USA', 'Germany', 'Japan', 'Brazil', 'India']\n",
    "size = ['Low', 'High']"
   ]
  },
  {
   "cell_type": "code",
   "execution_count": 16,
   "id": "c60654ec",
   "metadata": {},
   "outputs": [],
   "source": [
    "# Initialize Class\n",
    "model = LpProblem(\"Capacitated_Plant_Location_Model\", LpMinimize)"
   ]
  },
  {
   "cell_type": "code",
   "execution_count": 17,
   "id": "739a3162",
   "metadata": {},
   "outputs": [
    {
     "data": {
      "text/plain": [
       "{('USA', 'USA'): production__('USA',_'USA'),\n",
       " ('USA', 'Germany'): production__('USA',_'Germany'),\n",
       " ('USA', 'Japan'): production__('USA',_'Japan'),\n",
       " ('USA', 'Brazil'): production__('USA',_'Brazil'),\n",
       " ('USA', 'India'): production__('USA',_'India'),\n",
       " ('Germany', 'USA'): production__('Germany',_'USA'),\n",
       " ('Germany', 'Germany'): production__('Germany',_'Germany'),\n",
       " ('Germany', 'Japan'): production__('Germany',_'Japan'),\n",
       " ('Germany', 'Brazil'): production__('Germany',_'Brazil'),\n",
       " ('Germany', 'India'): production__('Germany',_'India'),\n",
       " ('Japan', 'USA'): production__('Japan',_'USA'),\n",
       " ('Japan', 'Germany'): production__('Japan',_'Germany'),\n",
       " ('Japan', 'Japan'): production__('Japan',_'Japan'),\n",
       " ('Japan', 'Brazil'): production__('Japan',_'Brazil'),\n",
       " ('Japan', 'India'): production__('Japan',_'India'),\n",
       " ('Brazil', 'USA'): production__('Brazil',_'USA'),\n",
       " ('Brazil', 'Germany'): production__('Brazil',_'Germany'),\n",
       " ('Brazil', 'Japan'): production__('Brazil',_'Japan'),\n",
       " ('Brazil', 'Brazil'): production__('Brazil',_'Brazil'),\n",
       " ('Brazil', 'India'): production__('Brazil',_'India'),\n",
       " ('India', 'USA'): production__('India',_'USA'),\n",
       " ('India', 'Germany'): production__('India',_'Germany'),\n",
       " ('India', 'Japan'): production__('India',_'Japan'),\n",
       " ('India', 'Brazil'): production__('India',_'Brazil'),\n",
       " ('India', 'India'): production__('India',_'India')}"
      ]
     },
     "execution_count": 17,
     "metadata": {},
     "output_type": "execute_result"
    }
   ],
   "source": [
    "# Create Decision Variables\n",
    "x = LpVariable.dicts(\"production_\", \n",
    "                     [(i,j) for i in loc \n",
    "                      for j in loc],\n",
    "                     lowBound=0, upBound=None, cat='continuous') #Variables that can take only real value\n",
    "x"
   ]
  },
  {
   "cell_type": "code",
   "execution_count": 18,
   "id": "40f4672b",
   "metadata": {
    "scrolled": true
   },
   "outputs": [
    {
     "data": {
      "text/plain": [
       "{('USA', 'Low'): plant__('USA',_'Low'),\n",
       " ('Germany', 'Low'): plant__('Germany',_'Low'),\n",
       " ('Japan', 'Low'): plant__('Japan',_'Low'),\n",
       " ('Brazil', 'Low'): plant__('Brazil',_'Low'),\n",
       " ('India', 'Low'): plant__('India',_'Low'),\n",
       " ('USA', 'High'): plant__('USA',_'High'),\n",
       " ('Germany', 'High'): plant__('Germany',_'High'),\n",
       " ('Japan', 'High'): plant__('Japan',_'High'),\n",
       " ('Brazil', 'High'): plant__('Brazil',_'High'),\n",
       " ('India', 'High'): plant__('India',_'High')}"
      ]
     },
     "execution_count": 18,
     "metadata": {},
     "output_type": "execute_result"
    }
   ],
   "source": [
    "y = LpVariable.dicts(\"plant_\", \n",
    "                     [(i,s) for s in size \n",
    "                      for i in loc],\n",
    "                     cat='Binary') # they can take only two values (0 or 1)\n",
    "y"
   ]
  },
  {
   "cell_type": "code",
   "execution_count": 19,
   "id": "1fcf55b0",
   "metadata": {},
   "outputs": [],
   "source": [
    "# Define Objective Function\n",
    "model += (lpSum([fixed_costs.loc[i,s] * y[(i,s)] * 1000 for s in size for i in loc])\n",
    "          + lpSum([var_cost.loc[i,j] * x[(i,j)]   for i in loc for j in loc]))"
   ]
  },
  {
   "cell_type": "code",
   "execution_count": 20,
   "id": "ec0e8148",
   "metadata": {},
   "outputs": [],
   "source": [
    "# Add Constraints\n",
    "# Constraints 1 Supply meets the demant in market.\n",
    "for j in loc:\n",
    "    model += lpSum([x[(i, j)] for i in loc]) == demand.loc[j,'Demand']\n",
    "\n",
    "# Constraint 2 Maximum production capacity per plant\n",
    "for i in loc:\n",
    "    model += lpSum([x[(i, j)] for j in loc]) <= lpSum([cap.loc[i,s]*y[(i,s)] * 1000\n",
    "                                                       for s in size])"
   ]
  },
  {
   "cell_type": "code",
   "execution_count": 21,
   "id": "26df810b",
   "metadata": {
    "scrolled": false
   },
   "outputs": [
    {
     "name": "stdout",
     "output_type": "stream",
     "text": [
      "Total Costs = 92,981,000 ($/Month)\n",
      "\n",
      "Status: Optimal\n"
     ]
    }
   ],
   "source": [
    "# Solve Model\n",
    "model.solve()\n",
    "print(\"Total Costs = {:,} ($/Month)\".format(int(value(model.objective))))\n",
    "print('\\n' + \"Status: {}\".format(LpStatus[model.status]))"
   ]
  },
  {
   "cell_type": "code",
   "execution_count": 22,
   "id": "b1e772b0",
   "metadata": {
    "scrolled": true
   },
   "outputs": [
    {
     "name": "stdout",
     "output_type": "stream",
     "text": [
      "('Brazil','High') = 0.0\n",
      "('Brazil','Low') = 1.0\n",
      "('Germany','High') = 0.0\n",
      "('Germany','Low') = 0.0\n",
      "('India','High') = 1.0\n",
      "('India','Low') = 0.0\n",
      "('Japan','High') = 1.0\n",
      "('Japan','Low') = 0.0\n",
      "('USA','High') = 1.0\n",
      "('USA','Low') = 0.0\n",
      "('Brazil','Brazil') = 145000.0\n",
      "('Brazil','Germany') = 0.0\n",
      "('Brazil','India') = 0.0\n",
      "('Brazil','Japan') = 0.0\n",
      "('Brazil','USA') = 0.0\n",
      "('Germany','Brazil') = 0.0\n",
      "('Germany','Germany') = 0.0\n",
      "('Germany','India') = 0.0\n",
      "('Germany','Japan') = 0.0\n",
      "('Germany','USA') = 0.0\n",
      "('India','Brazil') = 0.0\n",
      "('India','Germany') = 90000.0\n",
      "('India','India') = 160000.0\n",
      "('India','Japan') = 0.0\n",
      "('India','USA') = 1500000.0\n",
      "('Japan','Brazil') = 0.0\n",
      "('Japan','Germany') = 0.0\n",
      "('Japan','India') = 0.0\n",
      "('Japan','Japan') = 1500000.0\n",
      "('Japan','USA') = 0.0\n",
      "('USA','Brazil') = 0.0\n",
      "('USA','Germany') = 0.0\n",
      "('USA','India') = 0.0\n",
      "('USA','Japan') = 200000.0\n",
      "('USA','USA') = 1300000.0\n"
     ]
    }
   ],
   "source": [
    "# Dictionnary\n",
    "dict_plant = {}\n",
    "dict_prod = {}\n",
    "for v in model.variables():\n",
    "    if 'plant' in v.name:\n",
    "        name = v.name.replace('plant__', '').replace('_', '')\n",
    "        dict_plant[name] = int(v.varValue)\n",
    "        p_name = name\n",
    "    else:\n",
    "        name = v.name.replace('production__', '').replace('_', '')\n",
    "        dict_prod[name] = v.varValue\n",
    "    print(name, \"=\", v.varValue)"
   ]
  },
  {
   "cell_type": "code",
   "execution_count": 23,
   "id": "05c23df4",
   "metadata": {
    "scrolled": false
   },
   "outputs": [
    {
     "data": {
      "text/html": [
       "<div>\n",
       "<style scoped>\n",
       "    .dataframe tbody tr th:only-of-type {\n",
       "        vertical-align: middle;\n",
       "    }\n",
       "\n",
       "    .dataframe tbody tr th {\n",
       "        vertical-align: top;\n",
       "    }\n",
       "\n",
       "    .dataframe thead th {\n",
       "        text-align: right;\n",
       "    }\n",
       "</style>\n",
       "<table border=\"1\" class=\"dataframe\">\n",
       "  <thead>\n",
       "    <tr style=\"text-align: right;\">\n",
       "      <th></th>\n",
       "      <th>Plant</th>\n",
       "      <th>Production</th>\n",
       "    </tr>\n",
       "  </thead>\n",
       "  <tbody>\n",
       "    <tr>\n",
       "      <th>0</th>\n",
       "      <td>('Brazil','High')</td>\n",
       "      <td>0</td>\n",
       "    </tr>\n",
       "    <tr>\n",
       "      <th>1</th>\n",
       "      <td>('Brazil','Low')</td>\n",
       "      <td>1</td>\n",
       "    </tr>\n",
       "    <tr>\n",
       "      <th>2</th>\n",
       "      <td>('Germany','High')</td>\n",
       "      <td>0</td>\n",
       "    </tr>\n",
       "    <tr>\n",
       "      <th>3</th>\n",
       "      <td>('Germany','Low')</td>\n",
       "      <td>0</td>\n",
       "    </tr>\n",
       "    <tr>\n",
       "      <th>4</th>\n",
       "      <td>('India','High')</td>\n",
       "      <td>1</td>\n",
       "    </tr>\n",
       "    <tr>\n",
       "      <th>5</th>\n",
       "      <td>('India','Low')</td>\n",
       "      <td>0</td>\n",
       "    </tr>\n",
       "    <tr>\n",
       "      <th>6</th>\n",
       "      <td>('Japan','High')</td>\n",
       "      <td>1</td>\n",
       "    </tr>\n",
       "    <tr>\n",
       "      <th>7</th>\n",
       "      <td>('Japan','Low')</td>\n",
       "      <td>0</td>\n",
       "    </tr>\n",
       "    <tr>\n",
       "      <th>8</th>\n",
       "      <td>('USA','High')</td>\n",
       "      <td>1</td>\n",
       "    </tr>\n",
       "    <tr>\n",
       "      <th>9</th>\n",
       "      <td>('USA','Low')</td>\n",
       "      <td>0</td>\n",
       "    </tr>\n",
       "  </tbody>\n",
       "</table>\n",
       "</div>"
      ],
      "text/plain": [
       "                Plant  Production\n",
       "0   ('Brazil','High')           0\n",
       "1    ('Brazil','Low')           1\n",
       "2  ('Germany','High')           0\n",
       "3   ('Germany','Low')           0\n",
       "4    ('India','High')           1\n",
       "5     ('India','Low')           0\n",
       "6    ('Japan','High')           1\n",
       "7     ('Japan','Low')           0\n",
       "8      ('USA','High')           1\n",
       "9       ('USA','Low')           0"
      ]
     },
     "execution_count": 23,
     "metadata": {},
     "output_type": "execute_result"
    }
   ],
   "source": [
    "# Extract data from dictionaries\n",
    "plant_data = []\n",
    "prod_data = []\n",
    "for name, value in dict_plant.items():\n",
    "    plant_data.append([name, value])\n",
    "for name, value in dict_prod.items():\n",
    "    prod_data.append([name, value])\n",
    "\n",
    "# Create separate DataFrames\n",
    "df_plant = pd.DataFrame(plant_data, columns=[\"Plant\", \"Production\"])\n",
    "df_prod = pd.DataFrame(prod_data, columns=[\"Product\", \"Production\"])\n",
    "\n",
    "df_plant"
   ]
  },
  {
   "cell_type": "code",
   "execution_count": 31,
   "id": "3f8ab8b4",
   "metadata": {
    "scrolled": true
   },
   "outputs": [
    {
     "data": {
      "text/html": [
       "<div>\n",
       "<style scoped>\n",
       "    .dataframe tbody tr th:only-of-type {\n",
       "        vertical-align: middle;\n",
       "    }\n",
       "\n",
       "    .dataframe tbody tr th {\n",
       "        vertical-align: top;\n",
       "    }\n",
       "\n",
       "    .dataframe thead th {\n",
       "        text-align: right;\n",
       "    }\n",
       "</style>\n",
       "<table border=\"1\" class=\"dataframe\">\n",
       "  <thead>\n",
       "    <tr style=\"text-align: right;\">\n",
       "      <th></th>\n",
       "      <th>Low</th>\n",
       "      <th>High</th>\n",
       "    </tr>\n",
       "    <tr>\n",
       "      <th>Location</th>\n",
       "      <th></th>\n",
       "      <th></th>\n",
       "    </tr>\n",
       "  </thead>\n",
       "  <tbody>\n",
       "    <tr>\n",
       "      <th>USA</th>\n",
       "      <td>0</td>\n",
       "      <td>1</td>\n",
       "    </tr>\n",
       "    <tr>\n",
       "      <th>Germany</th>\n",
       "      <td>0</td>\n",
       "      <td>0</td>\n",
       "    </tr>\n",
       "    <tr>\n",
       "      <th>Japan</th>\n",
       "      <td>0</td>\n",
       "      <td>1</td>\n",
       "    </tr>\n",
       "    <tr>\n",
       "      <th>Brazil</th>\n",
       "      <td>1</td>\n",
       "      <td>0</td>\n",
       "    </tr>\n",
       "    <tr>\n",
       "      <th>India</th>\n",
       "      <td>0</td>\n",
       "      <td>1</td>\n",
       "    </tr>\n",
       "  </tbody>\n",
       "</table>\n",
       "</div>"
      ],
      "text/plain": [
       "          Low  High\n",
       "Location           \n",
       "USA         0     1\n",
       "Germany     0     0\n",
       "Japan       0     1\n",
       "Brazil      1     0\n",
       "India       0     1"
      ]
     },
     "execution_count": 31,
     "metadata": {},
     "output_type": "execute_result"
    }
   ],
   "source": [
    "# Capacity Plant\n",
    "list_low, list_high = [], []\n",
    "for l in loc:\n",
    "    for cap in ['Low', 'High']:\n",
    "        x = \"('{}','{}')\".format(l, cap)\n",
    "        if cap == 'Low':\n",
    "            list_low.append(dict_plant[x])\n",
    "        else:\n",
    "            list_high.append(dict_plant[x])\n",
    "df_capacity = pd.DataFrame({'Location': loc, 'Low': list_low, 'High': list_high}).set_index('Location')\n",
    "    \n",
    "df_capacity"
   ]
  },
  {
   "cell_type": "markdown",
   "id": "000f0e17",
   "metadata": {},
   "source": [
    "Based on the given data:\n",
    "- USA plant is in a high-production state.\n",
    "- Germany plant is not in production (zero production).\n",
    "- Japan plant is in a high-production state.\n",
    "- Brazil plant is in a low-production state.\n",
    "- India plant is in a high-production state.\n",
    "\n",
    "These values likely represent the optimized allocation or utilization of plants in a specific scenario, based on the constraints and objectives defined within the linear programming or optimization model implemented using PuLP."
   ]
  }
 ],
 "metadata": {
  "kernelspec": {
   "display_name": "Python 3 (ipykernel)",
   "language": "python",
   "name": "python3"
  },
  "language_info": {
   "codemirror_mode": {
    "name": "ipython",
    "version": 3
   },
   "file_extension": ".py",
   "mimetype": "text/x-python",
   "name": "python",
   "nbconvert_exporter": "python",
   "pygments_lexer": "ipython3",
   "version": "3.10.9"
  }
 },
 "nbformat": 4,
 "nbformat_minor": 5
}
